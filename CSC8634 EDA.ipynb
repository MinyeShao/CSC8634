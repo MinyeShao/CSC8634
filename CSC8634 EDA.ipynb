{
 "cells": [
  {
   "cell_type": "code",
   "execution_count": 92,
   "metadata": {},
   "outputs": [],
   "source": [
    "import pandas as pd\n",
    "import matplotlib.pyplot as plt\n",
    "from datetime import datetime\n",
    "import numpy as np\n",
    "import statistics\n",
    "import os\n",
    "import seaborn as sns\n"
   ]
  },
  {
   "cell_type": "code",
   "execution_count": 93,
   "metadata": {},
   "outputs": [],
   "source": [
    "data_processed_dir = os.path.join('.', 'processed')\n",
    "processed_csv = data_processed_dir + '/processed.csv'\n",
    "timestamp_form = '%Y-%m-%d %H:%M:%S.%f'"
   ]
  },
  {
   "cell_type": "code",
   "execution_count": 94,
   "metadata": {},
   "outputs": [],
   "source": [
    "gpu_event_data = pd.read_csv(processed_csv, index_col=0)\n",
    "gpu_stats_labels = ['Power (W)','Temperature (C)','GPU Util.(%)','Memory Util.(%)']\n",
    "median_label = ['Below/Equal to Median', 'Above Median']"
   ]
  },
  {
   "cell_type": "code",
   "execution_count": 95,
   "metadata": {},
   "outputs": [],
   "source": [
    "def timestr_cov(date_string):\n",
    "     if '.' not in date_string:\n",
    "        date_string = date_string + '.0'\n",
    "     return(date_string)\n",
    "gpu_event_data['start_time'] = gpu_event_data['start_time'].apply(\n",
    "    lambda x: (timestr_cov(x)))\n",
    "gpu_event_data['stop_time'] = gpu_event_data['stop_time'].apply(\n",
    "    lambda x: (timestr_cov(x)))\n",
    "gpu_event_data['start_time'] = gpu_event_data['start_time'].apply(\n",
    "    lambda x: (datetime.strptime(x, timestamp_form)))\n",
    "gpu_event_data['stop_time'] = gpu_event_data['stop_time'].apply(\n",
    "    lambda x: (datetime.strptime(x, timestamp_form)))"
   ]
  },
  {
   "cell_type": "code",
   "execution_count": 96,
   "metadata": {},
   "outputs": [
    {
     "data": {
      "text/html": [
       "<div>\n",
       "<style scoped>\n",
       "    .dataframe tbody tr th:only-of-type {\n",
       "        vertical-align: middle;\n",
       "    }\n",
       "\n",
       "    .dataframe tbody tr th {\n",
       "        vertical-align: top;\n",
       "    }\n",
       "\n",
       "    .dataframe thead th {\n",
       "        text-align: right;\n",
       "    }\n",
       "</style>\n",
       "<table border=\"1\" class=\"dataframe\">\n",
       "  <thead>\n",
       "    <tr style=\"text-align: right;\">\n",
       "      <th></th>\n",
       "      <th>hostname</th>\n",
       "      <th>eventName</th>\n",
       "      <th>x</th>\n",
       "      <th>y</th>\n",
       "      <th>level</th>\n",
       "      <th>powerDrawWatt</th>\n",
       "      <th>gpuTempC</th>\n",
       "      <th>gpuUtilPerc</th>\n",
       "      <th>gpuMemUtilPerc</th>\n",
       "      <th>start_time</th>\n",
       "      <th>stop_time</th>\n",
       "      <th>gpuUUID</th>\n",
       "    </tr>\n",
       "  </thead>\n",
       "  <tbody>\n",
       "    <tr>\n",
       "      <th>0</th>\n",
       "      <td>0d56a730076643d585f77e00d2d8521a00000Q</td>\n",
       "      <td>TotalRender</td>\n",
       "      <td>156</td>\n",
       "      <td>186</td>\n",
       "      <td>12</td>\n",
       "      <td>96.807273</td>\n",
       "      <td>37.590909</td>\n",
       "      <td>70.318182</td>\n",
       "      <td>37.863636</td>\n",
       "      <td>2018-11-08 08:27:10.606</td>\n",
       "      <td>2018-11-08 08:27:54.895</td>\n",
       "      <td>GPU-d84a1024-9381-c725-3b85-dd7143e64c35</td>\n",
       "    </tr>\n",
       "    <tr>\n",
       "      <th>1</th>\n",
       "      <td>0d56a730076643d585f77e00d2d8521a00000Q</td>\n",
       "      <td>Render</td>\n",
       "      <td>156</td>\n",
       "      <td>186</td>\n",
       "      <td>12</td>\n",
       "      <td>96.807273</td>\n",
       "      <td>37.590909</td>\n",
       "      <td>70.318182</td>\n",
       "      <td>37.863636</td>\n",
       "      <td>2018-11-08 08:27:10.608</td>\n",
       "      <td>2018-11-08 08:27:53.796</td>\n",
       "      <td>GPU-d84a1024-9381-c725-3b85-dd7143e64c35</td>\n",
       "    </tr>\n",
       "    <tr>\n",
       "      <th>2</th>\n",
       "      <td>83ea61ac1ef54f27a3bf7bd0f41ecaa700000J</td>\n",
       "      <td>Uploading</td>\n",
       "      <td>200</td>\n",
       "      <td>23</td>\n",
       "      <td>12</td>\n",
       "      <td>42.440000</td>\n",
       "      <td>41.000000</td>\n",
       "      <td>0.000000</td>\n",
       "      <td>0.000000</td>\n",
       "      <td>2018-11-08 08:27:10.839</td>\n",
       "      <td>2018-11-08 08:27:11.893</td>\n",
       "      <td>GPU-8792a29c-529e-1837-1806-c669cd9b1960</td>\n",
       "    </tr>\n",
       "    <tr>\n",
       "      <th>3</th>\n",
       "      <td>83ea61ac1ef54f27a3bf7bd0f41ecaa700000J</td>\n",
       "      <td>Tiling</td>\n",
       "      <td>200</td>\n",
       "      <td>23</td>\n",
       "      <td>12</td>\n",
       "      <td>42.440000</td>\n",
       "      <td>41.000000</td>\n",
       "      <td>0.000000</td>\n",
       "      <td>0.000000</td>\n",
       "      <td>2018-11-08 08:27:10.846</td>\n",
       "      <td>2018-11-08 08:27:11.882</td>\n",
       "      <td>GPU-8792a29c-529e-1837-1806-c669cd9b1960</td>\n",
       "    </tr>\n",
       "    <tr>\n",
       "      <th>4</th>\n",
       "      <td>b9a1fa7ae2f74eb68f25f607980f97d700000H</td>\n",
       "      <td>TotalRender</td>\n",
       "      <td>160</td>\n",
       "      <td>14</td>\n",
       "      <td>12</td>\n",
       "      <td>91.566957</td>\n",
       "      <td>38.695652</td>\n",
       "      <td>71.000000</td>\n",
       "      <td>39.913043</td>\n",
       "      <td>2018-11-08 08:27:10.612</td>\n",
       "      <td>2018-11-08 08:27:56.265</td>\n",
       "      <td>GPU-38bbf3b6-80fb-7e6f-6678-ee45035507ab</td>\n",
       "    </tr>\n",
       "  </tbody>\n",
       "</table>\n",
       "</div>"
      ],
      "text/plain": [
       "                                 hostname    eventName    x    y  level  \\\n",
       "0  0d56a730076643d585f77e00d2d8521a00000Q  TotalRender  156  186     12   \n",
       "1  0d56a730076643d585f77e00d2d8521a00000Q       Render  156  186     12   \n",
       "2  83ea61ac1ef54f27a3bf7bd0f41ecaa700000J    Uploading  200   23     12   \n",
       "3  83ea61ac1ef54f27a3bf7bd0f41ecaa700000J       Tiling  200   23     12   \n",
       "4  b9a1fa7ae2f74eb68f25f607980f97d700000H  TotalRender  160   14     12   \n",
       "\n",
       "   powerDrawWatt   gpuTempC  gpuUtilPerc  gpuMemUtilPerc  \\\n",
       "0      96.807273  37.590909    70.318182       37.863636   \n",
       "1      96.807273  37.590909    70.318182       37.863636   \n",
       "2      42.440000  41.000000     0.000000        0.000000   \n",
       "3      42.440000  41.000000     0.000000        0.000000   \n",
       "4      91.566957  38.695652    71.000000       39.913043   \n",
       "\n",
       "               start_time               stop_time  \\\n",
       "0 2018-11-08 08:27:10.606 2018-11-08 08:27:54.895   \n",
       "1 2018-11-08 08:27:10.608 2018-11-08 08:27:53.796   \n",
       "2 2018-11-08 08:27:10.839 2018-11-08 08:27:11.893   \n",
       "3 2018-11-08 08:27:10.846 2018-11-08 08:27:11.882   \n",
       "4 2018-11-08 08:27:10.612 2018-11-08 08:27:56.265   \n",
       "\n",
       "                                    gpuUUID  \n",
       "0  GPU-d84a1024-9381-c725-3b85-dd7143e64c35  \n",
       "1  GPU-d84a1024-9381-c725-3b85-dd7143e64c35  \n",
       "2  GPU-8792a29c-529e-1837-1806-c669cd9b1960  \n",
       "3  GPU-8792a29c-529e-1837-1806-c669cd9b1960  \n",
       "4  GPU-38bbf3b6-80fb-7e6f-6678-ee45035507ab  "
      ]
     },
     "execution_count": 96,
     "metadata": {},
     "output_type": "execute_result"
    }
   ],
   "source": [
    "gpu_event_data.head()"
   ]
  },
  {
   "cell_type": "code",
   "execution_count": 98,
   "metadata": {},
   "outputs": [
    {
     "data": {
      "image/png": "[encoded data removed]",
      "text/plain": [
       "<Figure size 720x576 with 1 Axes>"
      ]
     },
     "metadata": {},
     "output_type": "display_data"
    }
   ],
   "source": [
    "# group by event name (except total) to find execution times\n",
    "event_deltas = gpu_event_data[gpu_event_data['eventName'] != 'TotalRender'].groupby(\n",
    "    ['eventName']).apply(lambda x: x.stop_time - x.start_time)\n",
    "\n",
    "# sum execution times\n",
    "event_deltas.groupby(['eventName']).sum().plot(kind = 'barH')\n",
    "\n",
    "plt.ylabel('Time')\n",
    "plt.title('Event Summed Execution Time By Event Name')\n",
    "plt.rcParams['figure.figsize'] = [10, 8]"
   ]
  },
  {
   "cell_type": "code",
   "execution_count": 8,
   "metadata": {},
   "outputs": [
    {
     "data": {
      "image/png": "[encoded data removed]",
      "text/plain": [
       "<Figure size 1080x576 with 1 Axes>"
      ]
     },
     "metadata": {
      "needs_background": "light"
     },
     "output_type": "display_data"
    }
   ],
   "source": [
    "# plot host name frequency (.value_counts) using a histogram\n",
    "\n",
    "gpu_event_data['hostname'].value_counts().plot(kind = 'hist')\n",
    "plt.xlabel('Number of Tasks Assigned')\n",
    "plt.title('Tasks Assigned by GPU Histogram')\n",
    "\n",
    "plt.rcParams['figure.figsize'] = [5, 5]\n",
    "\n",
    "plt.savefig('./tasks-histo.png') # save figure\n",
    "plt.show()"
   ]
  },
  {
   "cell_type": "code",
   "execution_count": 9,
   "metadata": {},
   "outputs": [
    {
     "data": {
      "text/html": [
       "<style  type=\"text/css\" >\n",
       "    #T_02409734_3df1_11ea_aa74_a0510b166547row0_col0 {\n",
       "            background-color:  #023858;\n",
       "            color:  #f1f1f1;\n",
       "        }    #T_02409734_3df1_11ea_aa74_a0510b166547row0_col1 {\n",
       "            background-color:  #fff7fb;\n",
       "            color:  #000000;\n",
       "        }    #T_02409734_3df1_11ea_aa74_a0510b166547row0_col2 {\n",
       "            background-color:  #fff7fb;\n",
       "            color:  #000000;\n",
       "        }    #T_02409734_3df1_11ea_aa74_a0510b166547row0_col3 {\n",
       "            background-color:  #fff7fb;\n",
       "            color:  #000000;\n",
       "        }    #T_02409734_3df1_11ea_aa74_a0510b166547row0_col4 {\n",
       "            background-color:  #fff7fb;\n",
       "            color:  #000000;\n",
       "        }    #T_02409734_3df1_11ea_aa74_a0510b166547row1_col0 {\n",
       "            background-color:  #eee9f3;\n",
       "            color:  #000000;\n",
       "        }    #T_02409734_3df1_11ea_aa74_a0510b166547row1_col1 {\n",
       "            background-color:  #023858;\n",
       "            color:  #f1f1f1;\n",
       "        }    #T_02409734_3df1_11ea_aa74_a0510b166547row1_col2 {\n",
       "            background-color:  #4496c3;\n",
       "            color:  #000000;\n",
       "        }    #T_02409734_3df1_11ea_aa74_a0510b166547row1_col3 {\n",
       "            background-color:  #045c90;\n",
       "            color:  #f1f1f1;\n",
       "        }    #T_02409734_3df1_11ea_aa74_a0510b166547row1_col4 {\n",
       "            background-color:  #045b8e;\n",
       "            color:  #f1f1f1;\n",
       "        }    #T_02409734_3df1_11ea_aa74_a0510b166547row2_col0 {\n",
       "            background-color:  #fff7fb;\n",
       "            color:  #000000;\n",
       "        }    #T_02409734_3df1_11ea_aa74_a0510b166547row2_col1 {\n",
       "            background-color:  #5ea0ca;\n",
       "            color:  #000000;\n",
       "        }    #T_02409734_3df1_11ea_aa74_a0510b166547row2_col2 {\n",
       "            background-color:  #023858;\n",
       "            color:  #f1f1f1;\n",
       "        }    #T_02409734_3df1_11ea_aa74_a0510b166547row2_col3 {\n",
       "            background-color:  #71a8ce;\n",
       "            color:  #000000;\n",
       "        }    #T_02409734_3df1_11ea_aa74_a0510b166547row2_col4 {\n",
       "            background-color:  #78abd0;\n",
       "            color:  #000000;\n",
       "        }    #T_02409734_3df1_11ea_aa74_a0510b166547row3_col0 {\n",
       "            background-color:  #ece7f2;\n",
       "            color:  #000000;\n",
       "        }    #T_02409734_3df1_11ea_aa74_a0510b166547row3_col1 {\n",
       "            background-color:  #045b8f;\n",
       "            color:  #f1f1f1;\n",
       "        }    #T_02409734_3df1_11ea_aa74_a0510b166547row3_col2 {\n",
       "            background-color:  #529bc7;\n",
       "            color:  #000000;\n",
       "        }    #T_02409734_3df1_11ea_aa74_a0510b166547row3_col3 {\n",
       "            background-color:  #023858;\n",
       "            color:  #f1f1f1;\n",
       "        }    #T_02409734_3df1_11ea_aa74_a0510b166547row3_col4 {\n",
       "            background-color:  #034165;\n",
       "            color:  #f1f1f1;\n",
       "        }    #T_02409734_3df1_11ea_aa74_a0510b166547row4_col0 {\n",
       "            background-color:  #ece7f2;\n",
       "            color:  #000000;\n",
       "        }    #T_02409734_3df1_11ea_aa74_a0510b166547row4_col1 {\n",
       "            background-color:  #045a8d;\n",
       "            color:  #f1f1f1;\n",
       "        }    #T_02409734_3df1_11ea_aa74_a0510b166547row4_col2 {\n",
       "            background-color:  #589ec8;\n",
       "            color:  #000000;\n",
       "        }    #T_02409734_3df1_11ea_aa74_a0510b166547row4_col3 {\n",
       "            background-color:  #034165;\n",
       "            color:  #f1f1f1;\n",
       "        }    #T_02409734_3df1_11ea_aa74_a0510b166547row4_col4 {\n",
       "            background-color:  #023858;\n",
       "            color:  #f1f1f1;\n",
       "        }</style><table id=\"T_02409734_3df1_11ea_aa74_a0510b166547\" ><thead>    <tr>        <th class=\"blank level0\" ></th>        <th class=\"col_heading level0 col0\" >gpuSerial</th>        <th class=\"col_heading level0 col1\" >powerDrawWatt</th>        <th class=\"col_heading level0 col2\" >gpuTempC</th>        <th class=\"col_heading level0 col3\" >gpuUtilPerc</th>        <th class=\"col_heading level0 col4\" >gpuMemUtilPerc</th>    </tr></thead><tbody>\n",
       "                <tr>\n",
       "                        <th id=\"T_02409734_3df1_11ea_aa74_a0510b166547level0_row0\" class=\"row_heading level0 row0\" >gpuSerial</th>\n",
       "                        <td id=\"T_02409734_3df1_11ea_aa74_a0510b166547row0_col0\" class=\"data row0 col0\" >1</td>\n",
       "                        <td id=\"T_02409734_3df1_11ea_aa74_a0510b166547row0_col1\" class=\"data row0 col1\" >-0.0130078</td>\n",
       "                        <td id=\"T_02409734_3df1_11ea_aa74_a0510b166547row0_col2\" class=\"data row0 col2\" >-0.142388</td>\n",
       "                        <td id=\"T_02409734_3df1_11ea_aa74_a0510b166547row0_col3\" class=\"data row0 col3\" >0.00145148</td>\n",
       "                        <td id=\"T_02409734_3df1_11ea_aa74_a0510b166547row0_col4\" class=\"data row0 col4\" >0.0046463</td>\n",
       "            </tr>\n",
       "            <tr>\n",
       "                        <th id=\"T_02409734_3df1_11ea_aa74_a0510b166547level0_row1\" class=\"row_heading level0 row1\" >powerDrawWatt</th>\n",
       "                        <td id=\"T_02409734_3df1_11ea_aa74_a0510b166547row1_col0\" class=\"data row1 col0\" >-0.0130078</td>\n",
       "                        <td id=\"T_02409734_3df1_11ea_aa74_a0510b166547row1_col1\" class=\"data row1 col1\" >1</td>\n",
       "                        <td id=\"T_02409734_3df1_11ea_aa74_a0510b166547row1_col2\" class=\"data row1 col2\" >0.537191</td>\n",
       "                        <td id=\"T_02409734_3df1_11ea_aa74_a0510b166547row1_col3\" class=\"data row1 col3\" >0.862673</td>\n",
       "                        <td id=\"T_02409734_3df1_11ea_aa74_a0510b166547row1_col4\" class=\"data row1 col4\" >0.870745</td>\n",
       "            </tr>\n",
       "            <tr>\n",
       "                        <th id=\"T_02409734_3df1_11ea_aa74_a0510b166547level0_row2\" class=\"row_heading level0 row2\" >gpuTempC</th>\n",
       "                        <td id=\"T_02409734_3df1_11ea_aa74_a0510b166547row2_col0\" class=\"data row2 col0\" >-0.142388</td>\n",
       "                        <td id=\"T_02409734_3df1_11ea_aa74_a0510b166547row2_col1\" class=\"data row2 col1\" >0.537191</td>\n",
       "                        <td id=\"T_02409734_3df1_11ea_aa74_a0510b166547row2_col2\" class=\"data row2 col2\" >1</td>\n",
       "                        <td id=\"T_02409734_3df1_11ea_aa74_a0510b166547row2_col3\" class=\"data row2 col3\" >0.505906</td>\n",
       "                        <td id=\"T_02409734_3df1_11ea_aa74_a0510b166547row2_col4\" class=\"data row2 col4\" >0.492783</td>\n",
       "            </tr>\n",
       "            <tr>\n",
       "                        <th id=\"T_02409734_3df1_11ea_aa74_a0510b166547level0_row3\" class=\"row_heading level0 row3\" >gpuUtilPerc</th>\n",
       "                        <td id=\"T_02409734_3df1_11ea_aa74_a0510b166547row3_col0\" class=\"data row3 col0\" >0.00145148</td>\n",
       "                        <td id=\"T_02409734_3df1_11ea_aa74_a0510b166547row3_col1\" class=\"data row3 col1\" >0.862673</td>\n",
       "                        <td id=\"T_02409734_3df1_11ea_aa74_a0510b166547row3_col2\" class=\"data row3 col2\" >0.505906</td>\n",
       "                        <td id=\"T_02409734_3df1_11ea_aa74_a0510b166547row3_col3\" class=\"data row3 col3\" >1</td>\n",
       "                        <td id=\"T_02409734_3df1_11ea_aa74_a0510b166547row3_col4\" class=\"data row3 col4\" >0.966571</td>\n",
       "            </tr>\n",
       "            <tr>\n",
       "                        <th id=\"T_02409734_3df1_11ea_aa74_a0510b166547level0_row4\" class=\"row_heading level0 row4\" >gpuMemUtilPerc</th>\n",
       "                        <td id=\"T_02409734_3df1_11ea_aa74_a0510b166547row4_col0\" class=\"data row4 col0\" >0.0046463</td>\n",
       "                        <td id=\"T_02409734_3df1_11ea_aa74_a0510b166547row4_col1\" class=\"data row4 col1\" >0.870745</td>\n",
       "                        <td id=\"T_02409734_3df1_11ea_aa74_a0510b166547row4_col2\" class=\"data row4 col2\" >0.492783</td>\n",
       "                        <td id=\"T_02409734_3df1_11ea_aa74_a0510b166547row4_col3\" class=\"data row4 col3\" >0.966571</td>\n",
       "                        <td id=\"T_02409734_3df1_11ea_aa74_a0510b166547row4_col4\" class=\"data row4 col4\" >1</td>\n",
       "            </tr>\n",
       "    </tbody></table>"
      ],
      "text/plain": [
       "<pandas.io.formats.style.Styler at 0x270a89bceb8>"
      ]
     },
     "execution_count": 9,
     "metadata": {},
     "output_type": "execute_result"
    }
   ],
   "source": [
    "gpu_data = pd.read_csv('./raw/gpu.csv')\n",
    "gpu_data.sort_values('gpuTempC',ascending=False)\n",
    "gpu_data_cor = gpu_data.corr()\n",
    "gpu_data_cor.style.background_gradient()"
   ]
  },
  {
   "cell_type": "code",
   "execution_count": 10,
   "metadata": {},
   "outputs": [
    {
     "data": {
      "text/plain": [
       "<seaborn.axisgrid.FacetGrid at 0x270ab792cc0>"
      ]
     },
     "execution_count": 10,
     "metadata": {},
     "output_type": "execute_result"
    },
    {
     "data": {
      "image/png": "[encoded data removed]",
      "text/plain": [
       "<Figure size 360x360 with 1 Axes>"
      ]
     },
     "metadata": {
      "needs_background": "light"
     },
     "output_type": "display_data"
    }
   ],
   "source": [
    "sns.relplot(x='gpuTempC',y='gpuUtilPerc',kind='line',data=gpu_data)"
   ]
  },
  {
   "cell_type": "code",
   "execution_count": 11,
   "metadata": {},
   "outputs": [
    {
     "data": {
      "text/plain": [
       "<seaborn.axisgrid.FacetGrid at 0x270d375e208>"
      ]
     },
     "execution_count": 11,
     "metadata": {},
     "output_type": "execute_result"
    },
    {
     "data": {
      "image/png": "[encoded data removed]",
      "text/plain": [
       "<Figure size 360x360 with 1 Axes>"
      ]
     },
     "metadata": {
      "needs_background": "light"
     },
     "output_type": "display_data"
    }
   ],
   "source": [
    "sns.relplot(x='gpuTempC',y='gpuMemUtilPerc',kind='line',data=gpu_data)"
   ]
  },
  {
   "cell_type": "code",
   "execution_count": 12,
   "metadata": {},
   "outputs": [
    {
     "data": {
      "text/plain": [
       "<seaborn.axisgrid.FacetGrid at 0x270d3936160>"
      ]
     },
     "execution_count": 12,
     "metadata": {},
     "output_type": "execute_result"
    },
    {
     "data": {
      "image/png": "[encoded data removed]",
      "text/plain": [
       "<Figure size 360x360 with 1 Axes>"
      ]
     },
     "metadata": {
      "needs_background": "light"
     },
     "output_type": "display_data"
    }
   ],
   "source": [
    "sns.relplot(x='gpuTempC',y='powerDrawWatt',kind='line',data=gpu_data)"
   ]
  },
  {
   "cell_type": "code",
   "execution_count": 116,
   "metadata": {},
   "outputs": [],
   "source": [
    "duration_time=pd.to_datetime(gpu_event_data['stop_time']) - pd.to_datetime(gpu_event_data['start_time'])"
   ]
  },
  {
   "cell_type": "code",
   "execution_count": 117,
   "metadata": {},
   "outputs": [],
   "source": [
    "gpu_event_data['render_time']= duration_time"
   ]
  },
  {
   "cell_type": "code",
   "execution_count": 118,
   "metadata": {},
   "outputs": [],
   "source": [
    "d1=gpu_event_data[gpu_event_data['eventName'] == 'Render']"
   ]
  },
  {
   "cell_type": "code",
   "execution_count": 119,
   "metadata": {},
   "outputs": [
    {
     "data": {
      "text/plain": [
       "Timedelta('0 days 00:00:41.597205')"
      ]
     },
     "execution_count": 119,
     "metadata": {},
     "output_type": "execute_result"
    }
   ],
   "source": [
    "np.mean(d1['render_time'])"
   ]
  },
  {
   "cell_type": "code",
   "execution_count": 109,
   "metadata": {},
   "outputs": [
    {
     "data": {
      "text/plain": [
       "96.57628493756765"
      ]
     },
     "execution_count": 109,
     "metadata": {},
     "output_type": "execute_result"
    }
   ],
   "source": [
    "np.mean(d1['powerDrawWatt'])"
   ]
  },
  {
   "cell_type": "code",
   "execution_count": 89,
   "metadata": {},
   "outputs": [
    {
     "data": {
      "text/plain": [
       "<seaborn.axisgrid.FacetGrid at 0x270ade6deb8>"
      ]
     },
     "execution_count": 89,
     "metadata": {},
     "output_type": "execute_result"
    },
    {
     "data": {
      "image/png": "[encoded data removed]",
      "text/plain": [
       "<Figure size 360x360 with 1 Axes>"
      ]
     },
     "metadata": {},
     "output_type": "display_data"
    }
   ],
   "source": [
    "sns.relplot(x='render_time',y='powerDrawWatt',kind='line',data=d1)\n"
   ]
  },
  {
   "cell_type": "code",
   "execution_count": 124,
   "metadata": {},
   "outputs": [
    {
     "ename": "TypeError",
     "evalue": "ufunc 'isnan' not supported for the input types, and the inputs could not be safely coerced to any supported types according to the casting rule ''safe''",
     "output_type": "error",
     "traceback": [
      "\u001b[1;31m---------------------------------------------------------------------------\u001b[0m",
      "\u001b[1;31mTypeError\u001b[0m                                 Traceback (most recent call last)",
      "\u001b[1;32m<ipython-input-124-89587ff24737>\u001b[0m in \u001b[0;36m<module>\u001b[1;34m\u001b[0m\n\u001b[0;32m      1\u001b[0m \u001b[0mFrame\u001b[0m \u001b[1;33m=\u001b[0m \u001b[0mpd\u001b[0m\u001b[1;33m.\u001b[0m\u001b[0mDataFrame\u001b[0m\u001b[1;33m(\u001b[0m\u001b[0md1\u001b[0m\u001b[1;33m,\u001b[0m\u001b[0mcolumns\u001b[0m\u001b[1;33m=\u001b[0m\u001b[1;33m[\u001b[0m\u001b[1;34m'x'\u001b[0m\u001b[1;33m,\u001b[0m\u001b[1;34m'y'\u001b[0m\u001b[1;33m,\u001b[0m\u001b[1;34m'render_time'\u001b[0m\u001b[1;33m]\u001b[0m\u001b[1;33m)\u001b[0m\u001b[1;33m\u001b[0m\u001b[1;33m\u001b[0m\u001b[0m\n\u001b[1;32m----> 2\u001b[1;33m \u001b[0msns\u001b[0m\u001b[1;33m.\u001b[0m\u001b[0mheatmap\u001b[0m\u001b[1;33m(\u001b[0m\u001b[0mFrame\u001b[0m\u001b[1;33m,\u001b[0m \u001b[0mcmap\u001b[0m\u001b[1;33m=\u001b[0m\u001b[1;34m\"YlGnBu\"\u001b[0m\u001b[1;33m)\u001b[0m\u001b[1;33m\u001b[0m\u001b[1;33m\u001b[0m\u001b[0m\n\u001b[0m",
      "\u001b[1;32m~\\AppData\\Roaming\\Python\\Python37\\site-packages\\seaborn\\matrix.py\u001b[0m in \u001b[0;36mheatmap\u001b[1;34m(data, vmin, vmax, cmap, center, robust, annot, fmt, annot_kws, linewidths, linecolor, cbar, cbar_kws, cbar_ax, square, xticklabels, yticklabels, mask, ax, **kwargs)\u001b[0m\n\u001b[0;32m    515\u001b[0m     plotter = _HeatMapper(data, vmin, vmax, cmap, center, robust, annot, fmt,\n\u001b[0;32m    516\u001b[0m                           \u001b[0mannot_kws\u001b[0m\u001b[1;33m,\u001b[0m \u001b[0mcbar\u001b[0m\u001b[1;33m,\u001b[0m \u001b[0mcbar_kws\u001b[0m\u001b[1;33m,\u001b[0m \u001b[0mxticklabels\u001b[0m\u001b[1;33m,\u001b[0m\u001b[1;33m\u001b[0m\u001b[1;33m\u001b[0m\u001b[0m\n\u001b[1;32m--> 517\u001b[1;33m                           yticklabels, mask)\n\u001b[0m\u001b[0;32m    518\u001b[0m \u001b[1;33m\u001b[0m\u001b[0m\n\u001b[0;32m    519\u001b[0m     \u001b[1;31m# Add the pcolormesh kwargs here\u001b[0m\u001b[1;33m\u001b[0m\u001b[1;33m\u001b[0m\u001b[1;33m\u001b[0m\u001b[0m\n",
      "\u001b[1;32m~\\AppData\\Roaming\\Python\\Python37\\site-packages\\seaborn\\matrix.py\u001b[0m in \u001b[0;36m__init__\u001b[1;34m(self, data, vmin, vmax, cmap, center, robust, annot, fmt, annot_kws, cbar, cbar_kws, xticklabels, yticklabels, mask)\u001b[0m\n\u001b[0;32m    165\u001b[0m         \u001b[1;31m# Determine good default values for the colormapping\u001b[0m\u001b[1;33m\u001b[0m\u001b[1;33m\u001b[0m\u001b[1;33m\u001b[0m\u001b[0m\n\u001b[0;32m    166\u001b[0m         self._determine_cmap_params(plot_data, vmin, vmax,\n\u001b[1;32m--> 167\u001b[1;33m                                     cmap, center, robust)\n\u001b[0m\u001b[0;32m    168\u001b[0m \u001b[1;33m\u001b[0m\u001b[0m\n\u001b[0;32m    169\u001b[0m         \u001b[1;31m# Sort out the annotations\u001b[0m\u001b[1;33m\u001b[0m\u001b[1;33m\u001b[0m\u001b[1;33m\u001b[0m\u001b[0m\n",
      "\u001b[1;32m~\\AppData\\Roaming\\Python\\Python37\\site-packages\\seaborn\\matrix.py\u001b[0m in \u001b[0;36m_determine_cmap_params\u001b[1;34m(self, plot_data, vmin, vmax, cmap, center, robust)\u001b[0m\n\u001b[0;32m    202\u001b[0m                                cmap, center, robust):\n\u001b[0;32m    203\u001b[0m         \u001b[1;34m\"\"\"Use some heuristics to set good defaults for colorbar and range.\"\"\"\u001b[0m\u001b[1;33m\u001b[0m\u001b[1;33m\u001b[0m\u001b[0m\n\u001b[1;32m--> 204\u001b[1;33m         \u001b[0mcalc_data\u001b[0m \u001b[1;33m=\u001b[0m \u001b[0mplot_data\u001b[0m\u001b[1;33m.\u001b[0m\u001b[0mdata\u001b[0m\u001b[1;33m[\u001b[0m\u001b[1;33m~\u001b[0m\u001b[0mnp\u001b[0m\u001b[1;33m.\u001b[0m\u001b[0misnan\u001b[0m\u001b[1;33m(\u001b[0m\u001b[0mplot_data\u001b[0m\u001b[1;33m.\u001b[0m\u001b[0mdata\u001b[0m\u001b[1;33m)\u001b[0m\u001b[1;33m]\u001b[0m\u001b[1;33m\u001b[0m\u001b[1;33m\u001b[0m\u001b[0m\n\u001b[0m\u001b[0;32m    205\u001b[0m         \u001b[1;32mif\u001b[0m \u001b[0mvmin\u001b[0m \u001b[1;32mis\u001b[0m \u001b[1;32mNone\u001b[0m\u001b[1;33m:\u001b[0m\u001b[1;33m\u001b[0m\u001b[1;33m\u001b[0m\u001b[0m\n\u001b[0;32m    206\u001b[0m             \u001b[0mvmin\u001b[0m \u001b[1;33m=\u001b[0m \u001b[0mnp\u001b[0m\u001b[1;33m.\u001b[0m\u001b[0mpercentile\u001b[0m\u001b[1;33m(\u001b[0m\u001b[0mcalc_data\u001b[0m\u001b[1;33m,\u001b[0m \u001b[1;36m2\u001b[0m\u001b[1;33m)\u001b[0m \u001b[1;32mif\u001b[0m \u001b[0mrobust\u001b[0m \u001b[1;32melse\u001b[0m \u001b[0mcalc_data\u001b[0m\u001b[1;33m.\u001b[0m\u001b[0mmin\u001b[0m\u001b[1;33m(\u001b[0m\u001b[1;33m)\u001b[0m\u001b[1;33m\u001b[0m\u001b[1;33m\u001b[0m\u001b[0m\n",
      "\u001b[1;31mTypeError\u001b[0m: ufunc 'isnan' not supported for the input types, and the inputs could not be safely coerced to any supported types according to the casting rule ''safe''"
     ]
    }
   ],
   "source": []
  },
  {
   "cell_type": "code",
   "execution_count": 126,
   "metadata": {},
   "outputs": [
    {
     "name": "stdout",
     "output_type": "stream",
     "text": [
      "<class 'pandas.core.frame.DataFrame'>\n",
      "Int64Index: 3039 entries, 1 to 8174\n",
      "Data columns (total 3 columns):\n",
      "x              3039 non-null int64\n",
      "y              3039 non-null int64\n",
      "render_time    3039 non-null timedelta64[ns]\n",
      "dtypes: int64(2), timedelta64[ns](1)\n",
      "memory usage: 95.0 KB\n"
     ]
    }
   ],
   "source": [
    "Frame.info()"
   ]
  },
  {
   "cell_type": "code",
   "execution_count": null,
   "metadata": {},
   "outputs": [],
   "source": []
  }
 ],
 "metadata": {
  "kernelspec": {
   "display_name": "Python 3",
   "language": "python",
   "name": "python3"
  },
  "language_info": {
   "codemirror_mode": {
    "name": "ipython",
    "version": 3
   },
   "file_extension": ".py",
   "mimetype": "text/x-python",
   "name": "python",
   "nbconvert_exporter": "python",
   "pygments_lexer": "ipython3",
   "version": "3.7.3"
  }
 },
 "nbformat": 4,
 "nbformat_minor": 2
}
