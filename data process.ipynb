{
 "cells": [
  {
   "cell_type": "code",
   "execution_count": 13,
   "metadata": {},
   "outputs": [],
   "source": [
    "import logging\n",
    "import pandas as pd\n",
    "from pathlib import Path\n",
    "from datetime import datetime\n",
    "import sqlite3\n",
    "import os\n",
    "import matplotlib.pyplot as plt"
   ]
  },
  {
   "cell_type": "code",
   "execution_count": 14,
   "metadata": {},
   "outputs": [],
   "source": [
    "data_raw_dir= os.path.join('.', 'raw')\n",
    "data_processed_dir = os.path.join('.', 'processed')"
   ]
  },
  {
   "cell_type": "code",
   "execution_count": 15,
   "metadata": {},
   "outputs": [],
   "source": [
    "gpu_csv = data_raw_dir + '/gpu.csv'\n",
    "check_csv = data_raw_dir +  '/application-checkpoints.csv'\n",
    "task_csv = data_raw_dir + '/task-x-y.csv'\n",
    "processed_csv = data_processed_dir + '/processed.csv'\n",
    "timestamp_form = '%Y-%m-%dT%H:%M:%S.%fZ'"
   ]
  },
  {
   "cell_type": "code",
   "execution_count": 16,
   "metadata": {},
   "outputs": [],
   "source": [
    "def processed_gpu(gpu_data):\n",
    "    gpu_data.drop(columns='gpuSerial', inplace=True)\n",
    "    gpu_data['timestamp'] = processed_timestamp(gpu_data['timestamp'])\n",
    "    \n",
    "    return(gpu_data)"
   ]
  },
  {
   "cell_type": "code",
   "execution_count": 17,
   "metadata": {},
   "outputs": [],
   "source": [
    "def processed_timestamp(df):\n",
    "     df = df.apply(lambda x: (datetime.strptime(x, timestamp_form)))    \n",
    "     return(df)"
   ]
  },
  {
   "cell_type": "code",
   "execution_count": 18,
   "metadata": {},
   "outputs": [],
   "source": [
    "def processed_checktask(checktask_data):\n",
    "    checktask_data.drop(columns= ['jobId', 'taskId'], inplace=True)\n",
    "    \n",
    "    checktask_data['timestamp'] = processed_timestamp(checktask_data['timestamp'])\n",
    "\n",
    "    return(checktask_data)"
   ]
  },
  {
   "cell_type": "code",
   "execution_count": 19,
   "metadata": {},
   "outputs": [],
   "source": [
    "def checktask_gpu_merge(gpu_data, checktask_data):\n",
    "# Gets the start and stop times of the event and deletes the old timestamp\n",
    "    checktask_data_starttime = checktask_data[\n",
    "    checktask_data['eventType'] == 'START']\n",
    "    checktask_data_stoptime = checktask_data[\n",
    "    checktask_data['eventType'] == 'STOP']\n",
    "    checktask_data_starttime.rename(\n",
    "            index=str, columns={\"timestamp\": \"start_time\"}, inplace = True)\n",
    "    checktask_data_stoptime.rename(\n",
    "            index=str, columns={\"timestamp\": \"stop_time\"}, inplace = True)\n",
    "    checktask_data_stoptime.drop('eventType', axis = 1, inplace = True)\n",
    "    checktask_data_starttime.drop('eventType', axis = 1, inplace = True)\n",
    "# Combine the start and stop of each field record\n",
    "    checktask_data = pd.merge( checktask_data_starttime, checktask_data_stoptime, \n",
    "                on=['hostname', 'eventName', 'x', 'y', 'level'])\n",
    "# Remove any timestamps that appear in the gpu data\n",
    "    checktask_data = checktask_data[\n",
    "            (checktask_data['start_time'] >= gpu_data['timestamp'][0]) &\n",
    "            (checktask_data['stop_time']\n",
    "            <= gpu_data['timestamp'][len(gpu_data)-1])]\n",
    "# Using sqllite only combines the time between the timestamp of the gpu\n",
    "    # connect to sql\n",
    "    con2sql = sqlite3.connect(':memory:')\n",
    "    # Move the data into the SQL\n",
    "    checktask_data.to_sql('CheckTask', con2sql, index=False)\n",
    "    gpu_data.to_sql('Gpu', con2sql, index=False)\n",
    "    query = '''\n",
    "    SELECT *\n",
    "    FROM Gpu\n",
    "    LEFT JOIN CheckTask ON gpu.hostname = CheckTask.hostname\n",
    "    WHERE gpu.timestamp >= CheckTask.start_time \n",
    "        AND gpu.timestamp <= CheckTask.stop_time\n",
    "    '''\n",
    "    # create merged data\n",
    "    data_merged = pd.read_sql_query(query, con2sql)\n",
    "    \n",
    "    # drop duplicate hostname row (index 8)\n",
    "    data_merged = data_merged.loc[:,~data_merged.columns.duplicated()]\n",
    "    \n",
    "    # group for averages (average stats for every task)\n",
    "    \n",
    "    functions = {\n",
    "        'powerDrawWatt': 'mean', 'gpuTempC': 'mean',\n",
    "        'gpuUtilPerc': 'mean', 'gpuMemUtilPerc': 'mean',\n",
    "        'start_time': 'first', 'stop_time': 'first', \n",
    "        'gpuUUID' : 'first'}\n",
    "    \n",
    "    data_merged = data_merged.groupby(\n",
    "        ['hostname', 'eventName', 'x', 'y', 'level'],\n",
    "        as_index=False, sort=False\n",
    "    ).agg(functions)\n",
    "\n",
    "    return(data_merged)"
   ]
  },
  {
   "cell_type": "code",
   "execution_count": 20,
   "metadata": {},
   "outputs": [],
   "source": [
    "def merge_check_task(checkpoints_data, tasks_data):\n",
    "    checktask_data = checkpoints_data.merge(tasks_data,\n",
    "                                     on=['taskId', 'jobId'], how='left')\n",
    "    return (checktask_data)"
   ]
  },
  {
   "cell_type": "code",
   "execution_count": 26,
   "metadata": {},
   "outputs": [
    {
     "name": "stderr",
     "output_type": "stream",
     "text": [
      "2020-01-22 22:54:16,734 - __main__ - INFO - making final data set from raw data\n"
     ]
    }
   ],
   "source": [
    "def final():\n",
    "    \"\"\" Runs data processing scripts to turn raw data from (../raw) into\n",
    "        cleaned data ready to be analyzed (saved in ../processed).\n",
    "    \"\"\"\n",
    "    logger = logging.getLogger(__name__)\n",
    "    logger.info('making final data set from raw data')\n",
    "    \n",
    "    # Read datasets in\n",
    "    \n",
    "    gpu_data = pd.read_csv(gpu_csv)\n",
    "    checkpoints_data = pd.read_csv(check_csv)\n",
    "    tasks_data = pd.read_csv(task_csv)\n",
    "    \n",
    "    # Cleaning and merging process    \n",
    "    gpu_data = processed_gpu(gpu_data)\n",
    "    checktask_data = merge_check_task(checkpoints_data, tasks_data)\n",
    "    checktask_data = processed_checktask(checktask_data)  \n",
    "    checktask_gpu_data = checktask_gpu_merge(gpu_data, checktask_data)\n",
    "\n",
    "    # save final dataset\n",
    "    \n",
    "    checktask_gpu_data.to_csv(processed_csv)\n",
    "\n",
    "if __name__ == '__main__':\n",
    "    log_fmt = '%(asctime)s - %(name)s - %(levelname)s - %(message)s'\n",
    "    logging.basicConfig(level=logging.INFO, format=log_fmt)\n",
    "    final()"
   ]
  }
 ],
 "metadata": {
  "kernelspec": {
   "display_name": "Python 3",
   "language": "python",
   "name": "python3"
  },
  "language_info": {
   "codemirror_mode": {
    "name": "ipython",
    "version": 3
   },
   "file_extension": ".py",
   "mimetype": "text/x-python",
   "name": "python",
   "nbconvert_exporter": "python",
   "pygments_lexer": "ipython3",
   "version": "3.7.3"
  }
 },
 "nbformat": 4,
 "nbformat_minor": 2
}
